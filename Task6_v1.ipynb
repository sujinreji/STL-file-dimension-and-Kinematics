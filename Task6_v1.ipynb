{
 "cells": [
  {
   "cell_type": "code",
   "execution_count": 78,
   "id": "4b27936b-c7dd-42c8-bc6c-c4c1714dad54",
   "metadata": {},
   "outputs": [
    {
     "name": "stdout",
     "output_type": "stream",
     "text": [
      "Requirement already satisfied: numpy-stl in c:\\users\\administrator\\anaconda3\\lib\\site-packages (3.1.1)Note: you may need to restart the kernel to use updated packages.\n",
      "\n",
      "Requirement already satisfied: numpy in c:\\users\\administrator\\anaconda3\\lib\\site-packages (from numpy-stl) (1.26.4)\n",
      "Requirement already satisfied: python-utils>=3.4.5 in c:\\users\\administrator\\anaconda3\\lib\\site-packages (from numpy-stl) (3.8.2)\n",
      "Requirement already satisfied: typing-extensions>3.10.0.2 in c:\\users\\administrator\\anaconda3\\lib\\site-packages (from python-utils>=3.4.5->numpy-stl) (4.9.0)\n"
     ]
    }
   ],
   "source": [
    "pip install numpy-stl\n"
   ]
  },
  {
   "cell_type": "code",
   "execution_count": 79,
   "id": "2deeca9a-72fc-4951-9335-5e263fa8a11b",
   "metadata": {},
   "outputs": [],
   "source": [
    "import os\n",
    "import numpy as np\n",
    "from stl import mesh\n",
    "stl_file_path=r\"C:\\Users\\Administrator\\Taske6_stl_files\""
   ]
  },
  {
   "cell_type": "code",
   "execution_count": 80,
   "id": "df83d04a-641c-4353-bc01-da8ee7333c4c",
   "metadata": {},
   "outputs": [],
   "source": [
    "# def get_dimension_info(stl_file_path):\n",
    "#     # Load the STL file\n",
    "#     your_mesh = mesh.Mesh.from_file(stl_file_path)\n",
    "#     # Get the minimum and maximum coordinates along each axis\n",
    "#     min_x, max_x, min_y, max_y, min_z, max_z = your_mesh.min_, your_mesh.max_\n",
    "\n",
    "#     # Calculate dimensions\n",
    "#     width = max_x - min_x\n",
    "#     height = max_y - min_y\n",
    "#     depth = max_z - min_z\n",
    "#     return width, height, depth\n",
    "def get_dimension_info(stl_file_path):\n",
    "    # Load the STL file\n",
    "    your_mesh = mesh.Mesh.from_file(stl_file_path)\n",
    "\n",
    "    # Get the minimum and maximum coordinates along each axis\n",
    "    min_x, min_y, min_z = np.min(your_mesh.vectors, axis=0)\n",
    "    max_x, max_y, max_z = np.max(your_mesh.vectors, axis=0)\n",
    "\n",
    "    # Calculate dimensions\n",
    "    width = max_x[0] - min_x[0]\n",
    "    height = max_y[1] - min_y[1]\n",
    "    depth = max_z[2] - min_z[2]\n",
    "\n",
    "    return width, height, depth"
   ]
  },
  {
   "cell_type": "code",
   "execution_count": 81,
   "id": "9470e2da-fc40-4169-b378-61afec8e063b",
   "metadata": {},
   "outputs": [],
   "source": [
    "def main(folder_path):\n",
    "    for file_name in os.listdir(folder_path):\n",
    "        if file_name.endswith(\".stl\"):\n",
    "            stl_file_path = os.path.join(folder_path, file_name)\n",
    "            width, height, depth = get_dimension_info(stl_file_path)\n",
    "            print(f\"File: {file_name}\")\n",
    "            print(f\"Dimensions (width x height x depth): {width:.2f} x {height:.2f} x {depth:.2f}\")"
   ]
  },
  {
   "cell_type": "code",
   "execution_count": 82,
   "id": "cf347522-5a4e-4197-8893-4b504095d493",
   "metadata": {},
   "outputs": [
    {
     "name": "stdout",
     "output_type": "stream",
     "text": [
      "File: base.stl\n",
      "Dimensions (width x height x depth): 50.00 x 40.00 x 4.00\n",
      "File: elbow_to_wrist.stl\n",
      "Dimensions (width x height x depth): 22.00 x 42.00 x 28.00\n",
      "File: elbow_to_wrist_extension.stl\n",
      "Dimensions (width x height x depth): 35.00 x 90.10 x 23.00\n",
      "File: gripper_handle.stl\n",
      "Dimensions (width x height x depth): 27.00 x 44.50 x 75.00\n",
      "File: gripper_trigger.stl\n",
      "Dimensions (width x height x depth): 23.00 x 28.00 x 50.00\n",
      "File: leader_arm.stl\n",
      "Dimensions (width x height x depth): 56.12 x 168.62 x 179.00\n",
      "File: shoulder_to_elbow.stl\n",
      "Dimensions (width x height x depth): 15.60 x 35.00 x 120.00\n"
     ]
    }
   ],
   "source": [
    "if __name__ == \"__main__\":\n",
    "    folder_path = r\"C:\\Users\\Administrator\\Taske6_stl_files\"\n",
    "    main(folder_path)"
   ]
  },
  {
   "cell_type": "code",
   "execution_count": null,
   "id": "9b96d1fd-e9ba-49aa-8a5a-90c74a2003b2",
   "metadata": {},
   "outputs": [],
   "source": []
  }
 ],
 "metadata": {
  "kernelspec": {
   "display_name": "Python 3 (ipykernel)",
   "language": "python",
   "name": "python3"
  },
  "language_info": {
   "codemirror_mode": {
    "name": "ipython",
    "version": 3
   },
   "file_extension": ".py",
   "mimetype": "text/x-python",
   "name": "python",
   "nbconvert_exporter": "python",
   "pygments_lexer": "ipython3",
   "version": "3.11.7"
  }
 },
 "nbformat": 4,
 "nbformat_minor": 5
}

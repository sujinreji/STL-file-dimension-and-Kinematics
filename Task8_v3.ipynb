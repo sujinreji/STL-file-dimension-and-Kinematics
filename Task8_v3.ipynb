{
 "cells": [
  {
   "cell_type": "markdown",
   "id": "90e48b04-1118-42ef-aa58-c67e92acdb88",
   "metadata": {},
   "source": [
    "Write python code to do inverse kinematics of the leader or follower robotic arm given in https://github.com/AlexanderKoch-Koch/low_cost_robot/tree/main/simulation"
   ]
  },
  {
   "cell_type": "code",
   "execution_count": 1,
   "id": "75ed9c1c-78db-4bf0-ba0c-d5240954f4e8",
   "metadata": {},
   "outputs": [
    {
     "name": "stdout",
     "output_type": "stream",
     "text": [
      "Joint angles after moving to target: (2.943409995173882, -0.8238407385587269, -0.13475058174699264, 0.9048929849392646, -1.4068743963136143)\n"
     ]
    }
   ],
   "source": [
    "import pybullet as p\n",
    "import pybullet_data\n",
    "import time\n",
    "import numpy as np\n",
    "\n",
    "# Connect to the physics server\n",
    "p.connect(p.GUI)\n",
    "\n",
    "# Set additional search path for URDF data\n",
    "p.setAdditionalSearchPath(r\"C:\\Users\\Administrator\\arm\\urdf\")\n",
    "\n",
    "# Load the URDF file\n",
    "robot = p.loadURDF(r\"arm.urdf\", useFixedBase=True)\n",
    "\n",
    "initial_base_pose = [0, 0, 0]\n",
    "initial_base_orientation = p.getQuaternionFromEuler([-np.pi/2, 0, -np.pi/2])  # Rotate by 90 degrees around the z-axis\n",
    "p.resetBasePositionAndOrientation(robot, initial_base_pose, initial_base_orientation)\n",
    "\n",
    "# Set the initial joint positions\n",
    "initial_joint_positions = [0.0, 0.0, 0.0, 0.0, 0.0]  # Adjust based on your robot's initial configuration\n",
    "for i in range(p.getNumJoints(robot)):\n",
    "    p.resetJointState(robot, i, initial_joint_positions[i])\n",
    "\n",
    "# Add a camera to the scene\n",
    "p.addUserDebugText('Camera view of the arm', [0.02, 0, 0.25], textColorRGB=[0,0,0], textSize=1)\n",
    "p.resetDebugVisualizerCamera(cameraDistance=0.45, cameraYaw=45, cameraPitch=-45, cameraTargetPosition=[0, 0, 0])\n",
    "\n",
    "# Simulate the robot\n",
    "p.setGravity(0, 0, -9.81)\n",
    "p.setRealTimeSimulation(1)\n",
    "\n",
    "color2 = [0.851, 0.424, 0.024, 0.961]  # light\n",
    "color1 = [0.161, 0.157, 0.137, 0.998]  # dark\n",
    "current_color = color1\n",
    "\n",
    "# Change colors of alternate joints\n",
    "for i in range(0, p.getNumJoints(robot), 1):\n",
    "    p.changeVisualShape(robot, i, rgbaColor=current_color)\n",
    "    current_color = color2 if current_color == color1 else color1\n",
    "\n",
    "def move_to_target(target_end_effector_position):\n",
    "    # Calculate inverse kinematics to get joint positions\n",
    "    joint_positions = p.calculateInverseKinematics(robot, 4, target_end_effector_position,target_ori, maxNumIterations=1000)\n",
    "    # Move the arm to the calculated joint positions\n",
    "    for i in range(p.getNumJoints(robot)):\n",
    "        p.setJointMotorControl2(robot,i,p.POSITION_CONTROL,targetPosition=joint_positions[i],maxVelocity=0.7)\n",
    "\n",
    "    # Print the joint positions after reaching the target\n",
    "    print(\"Joint angles after moving to target:\",joint_positions)\n",
    "\n",
    "# Move to a target end-effector position (x, y, z)\n",
    "target_end_effector_position = [-0.06484896781700908, -0.03385325078356215, 0.09274640062348348]\n",
    "target_ori=[-0.47487614004185047, 0.23152471820976536, 0.8381955897065375, 0.1353407177214285]\n",
    "move_to_target(target_end_effector_position)\n",
    "\n",
    "time.sleep(7)\n",
    "p.disconnect()  # Close the connection to PyBullet\n"
   ]
  },
  {
   "cell_type": "code",
   "execution_count": null,
   "id": "969e36e0-7f3c-4526-a5c9-3188dbddcd6d",
   "metadata": {},
   "outputs": [],
   "source": []
  }
 ],
 "metadata": {
  "kernelspec": {
   "display_name": "Python 3 (ipykernel)",
   "language": "python",
   "name": "python3"
  },
  "language_info": {
   "codemirror_mode": {
    "name": "ipython",
    "version": 3
   },
   "file_extension": ".py",
   "mimetype": "text/x-python",
   "name": "python",
   "nbconvert_exporter": "python",
   "pygments_lexer": "ipython3",
   "version": "3.11.7"
  }
 },
 "nbformat": 4,
 "nbformat_minor": 5
}

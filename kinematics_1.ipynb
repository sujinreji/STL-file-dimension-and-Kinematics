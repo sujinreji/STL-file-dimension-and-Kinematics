{
 "cells": [
  {
   "cell_type": "code",
   "execution_count": 1,
   "id": "e37f984d-e695-4d55-a360-45c7a3b60167",
   "metadata": {},
   "outputs": [
    {
     "name": "stdout",
     "output_type": "stream",
     "text": [
      "Joint positions after moving to target: [3.1400000040939147, -0.7849999999999996, -0.25100262307712207, 1.0700033107927467, -1.538989111546709]\n",
      "Joint positions after moving back to initial: [-0.0, 0.0, -0.0, 0.0, 0.0]\n",
      "target we give [3.157, -0.785, -0.251, 1.07, -1.539]\n",
      "intital we give [0.0, 0.0, 0.0, 0.0, 0.0]\n",
      "end effector positiion: (0.1616066276240858, -0.0002427252925262882, 0.1858666091431029)\n",
      "end_ori (0.5196592873879221, 0.4969764399007346, -0.48576076257258854, 0.49699610135288375)\n"
     ]
    }
   ],
   "source": [
    "import pybullet as p\n",
    "import pybullet_data\n",
    "import time\n",
    "import numpy as np\n",
    "\n",
    "# Connect to the physics server\n",
    "p.connect(p.GUI)\n",
    "\n",
    "# Set additional search path for URDF data\n",
    "p.setAdditionalSearchPath(r\"C:\\Users\\Administrator\\arm\\urdf\")\n",
    "\n",
    "# Load the URDF file\n",
    "robot = p.loadURDF(r\"arm.urdf\", useFixedBase=True)\n",
    "\n",
    "initial_base_pose = [0, 0, 0]\n",
    "initial_base_orientation = p.getQuaternionFromEuler([-np.pi/2, 0, -np.pi/2])                       # Rotate by 90 degrees around the z-axis\n",
    "p.resetBasePositionAndOrientation(robot, initial_base_pose, initial_base_orientation)\n",
    "\n",
    "# Set the initial joint positions\n",
    "initial_joint_positions = [0.0, 0.0, 0.0, 0.0, 0.0]                                               # Adjust based on your robot's initial configuration\n",
    "for i in range(p.getNumJoints(robot)):\n",
    "    p.resetJointState(robot, i, initial_joint_positions[i])\n",
    "\n",
    "# Add a camera to the scene\n",
    "p.addUserDebugText('Camera view of the arm', [0.02, 0, 0.25], textColorRGB=[0,0,0], textSize=1)\n",
    "p.resetDebugVisualizerCamera(cameraDistance=0.45, cameraYaw=45, cameraPitch=-45, cameraTargetPosition=[0, 0, 0])\n",
    "\n",
    "# Simulate the robot\n",
    "p.setGravity(0, 0, -9.81)\n",
    "p.setRealTimeSimulation(1)\n",
    "\n",
    "color2 =[0.851, 0.424, 0.024, 0.961]  #light\n",
    "color1 = [0.161, 0.157, 0.137, 0.998]  #dark\n",
    "current_color = color1\n",
    "\n",
    "# Change colors of alternate joints\n",
    "for i in range(0, p.getNumJoints(robot), 1):\n",
    "    p.changeVisualShape(robot, i, rgbaColor=current_color)\n",
    "    current_color = color2 if current_color == color1 else color1\n",
    "    \n",
    "def move_to_target(target_joint_positions):\n",
    "        motor_control(target_joint_positions)\n",
    "        time.sleep(5)\n",
    "        target_positions = [p.getJointState(robot, i)[0] for i in range(p.getNumJoints(robot))]\n",
    "        print(\"Joint positions after moving to target:\", target_positions)\n",
    "\n",
    "\n",
    "def move_to_initial():\n",
    "        motor_control(initial_joint_positions)\n",
    "        time.sleep(5)\n",
    "        initial_positions = [float(f'{p.getJointState(robot, i)[0]:.4f}') for i in range(p.getNumJoints(robot))]\n",
    "        print(\"Joint positions after moving back to initial:\", initial_positions)\n",
    "    \n",
    "def motor_control(position):\n",
    "    for i in range(p.getNumJoints(robot)):\n",
    "        p.setJointMotorControl2(\n",
    "            robot, \n",
    "            p.getNumJoints(robot)-i-1,\n",
    "            p.POSITION_CONTROL, targetPosition=position[p.getNumJoints(robot)-i-1],\n",
    "            maxVelocity=0.7\n",
    "        )\n",
    "        time.sleep(2)\n",
    "time.sleep(5)\n",
    "# Move to a target position\n",
    "target_joint_positions = [3.157,-0.785,-0.251,1.07, -1.539]                     \n",
    "move_to_target(target_joint_positions)\n",
    "move_to_initial()\n",
    "\n",
    "print(\"target we give\", target_joint_positions)\n",
    "print(\"intital we give\", initial_joint_positions)\n",
    "time.sleep(15)\n",
    "s=p.getLinkState(robot,4)[0]\n",
    "print(\"end effector positiion:\",s)\n",
    "s=p.getLinkState(robot,4)[1]\n",
    "print(\"end_ori\",s)\n",
    "p.disconnect()                                                                      # Close the connection to PyBullet\n"
   ]
  },
  {
   "cell_type": "code",
   "execution_count": null,
   "id": "d22e735a-8e77-45ef-ab85-3252050b16d4",
   "metadata": {},
   "outputs": [],
   "source": []
  },
  {
   "cell_type": "code",
   "execution_count": null,
   "id": "05cdc8f9-eee8-4556-8ab0-a5979bdbb0f8",
   "metadata": {},
   "outputs": [],
   "source": []
  }
 ],
 "metadata": {
  "kernelspec": {
   "display_name": "Python 3 (ipykernel)",
   "language": "python",
   "name": "python3"
  },
  "language_info": {
   "codemirror_mode": {
    "name": "ipython",
    "version": 3
   },
   "file_extension": ".py",
   "mimetype": "text/x-python",
   "name": "python",
   "nbconvert_exporter": "python",
   "pygments_lexer": "ipython3",
   "version": "3.11.7"
  }
 },
 "nbformat": 4,
 "nbformat_minor": 5
}
